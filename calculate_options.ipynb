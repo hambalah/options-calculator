{
 "cells": [
  {
   "cell_type": "markdown",
   "metadata": {},
   "source": [
    "## Template for PyQt5 GUI from Week 2 Content"
   ]
  },
  {
   "cell_type": "code",
   "execution_count": null,
   "metadata": {},
   "outputs": [],
   "source": [
    "import sys\n",
    "from PyQt5.QtWidgets import QMainWindow, QApplication\n",
    "from PyQt5 import uic\n",
    "import math\n",
    "\n",
    "qtCreatorFile = \"HDBLoanCalculator.ui\"\n",
    "Ui_MainWindow, QtBaseClass = uic.loadUiType(qtCreatorFile)\n",
    "\n",
    "class Main(QMainWindow, Ui_MainWindow):\n",
    "    def __init__(self):        \n",
    "        super().__init__()\n",
    "        self.setupUi(self)\n",
    "        \n",
    "        self.label_RepaymentPeriod.setText(\n",
    "                \"<span style='font-size:18pt;'>\"\n",
    "                \"Repayment Period (In Years)\"\n",
    "                \"</span><span style='font-size:12pt;'>\"\n",
    "                \"  (Between 1-25 years)\"\n",
    "                \"</span>\"\n",
    "                )\n",
    "        \n",
    "        self.pushButton_Calculate.clicked.connect(self.PB_C)\n",
    "        \n",
    "    def PB_C(self):\n",
    "        #--------------------START------------------------------\n",
    "        print('Write code here.')\n",
    "        print(self.lineEdit_LoanAmount.text(), \n",
    "              type(self.lineEdit_LoanAmount.text()))\n",
    "        print(self.lineEdit_RepaymentPeriod.text())\n",
    "        print(self.lineEdit_InterestRateOfLoan.text())\n",
    "        self.lineEdit_MonthlyInstallment.setText('Write Answer')\n",
    "        \n",
    "        PV = float(self.lineEdit_LoanAmount.text())\n",
    "        t = int(self.lineEdit_RepaymentPeriod.text())\n",
    "        r = float(self.lineEdit_InterestRateOfLoan.text())/100\n",
    "        \n",
    "        P=(r/12*PV)/(1-(1+r/12)**(-12*t))\n",
    "        P = str(math.ceil(P))\n",
    "        \n",
    "        self.lineEdit_MonthlyInstallment.setText(P)\n",
    "        #-------------------- END ------------------------------\n",
    "        # 0. Comment the above 6 lines of code.\n",
    "        # 1. Use the template to get strings from GUI components.        \n",
    "        # 2. Convert strings to numbers.\n",
    "        # 3. Use variables.\n",
    "        # 4. Write an expression to calcualte, including rounding.\n",
    "        # 5. Convert the result from number to string.\n",
    "        # 6. Use the template to output the string to the GUI component. \n",
    "\n",
    "if __name__ == '__main__':\n",
    "\n",
    "    app = QApplication(sys.argv)\n",
    "    main = Main()\n",
    "    main.show()\n",
    "    sys.exit(app.exec_())"
   ]
  }
 ],
 "metadata": {
  "language_info": {
   "name": "python"
  },
  "orig_nbformat": 4
 },
 "nbformat": 4,
 "nbformat_minor": 2
}
